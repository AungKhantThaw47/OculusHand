{
 "cells": [
  {
   "cell_type": "code",
   "execution_count": 17,
   "metadata": {},
   "outputs": [
    {
     "name": "stdout",
     "output_type": "stream",
     "text": [
      "Index(['wrist_thumb0', 'wrist_thumb1', 'wrist_thumb2', 'wrist_thumb3',\n",
      "       'wrist_index1', 'wrist_index2', 'wrist_index3', 'wrist_middle1',\n",
      "       'wrist_middle2', 'wrist_middle3', 'wrist_ring1', 'wrist_ring2',\n",
      "       'wrist_ring3', 'wrist_pinky1', 'wrist_pinky2', 'wrist_pinky3', 'Sign'],\n",
      "      dtype='object')\n"
     ]
    }
   ],
   "source": [
    "from sklearn.datasets import load_iris\n",
    "from sklearn.model_selection import train_test_split\n",
    "import pandas as pd\n",
    "\n",
    "dataset = pd.read_csv('calculate_shuffle_distance_bones.csv')\n",
    "# iris = load_iris(as_frame=True)\n",
    "# X = iris.data[[\"sepal length (cm)\", \"sepal width (cm)\"]]\n",
    "# y = iris.target\n",
    "# print(dataset.iloc[:, -1].unique())\n",
    "print(dataset.columns)\n",
    "X = dataset.iloc[:, :-1].values\n",
    "y = dataset.iloc[:, -1].values\n",
    "X_train, X_test, y_train, y_test = train_test_split(X, y, stratify=y, random_state=0)"
   ]
  },
  {
   "cell_type": "code",
   "execution_count": 13,
   "metadata": {},
   "outputs": [],
   "source": [
    "from sklearn.neighbors import KNeighborsClassifier\n",
    "from sklearn.pipeline import Pipeline\n",
    "from sklearn.preprocessing import StandardScaler\n",
    "\n",
    "clf = Pipeline(\n",
    "    steps=[(\"scaler\", StandardScaler()), (\"knn\", KNeighborsClassifier(n_neighbors=11))]\n",
    ")"
   ]
  },
  {
   "cell_type": "code",
   "execution_count": 18,
   "metadata": {},
   "outputs": [
    {
     "ename": "ValueError",
     "evalue": "n_features must be equal to 2. Got 16 instead.",
     "output_type": "error",
     "traceback": [
      "\u001b[1;31m---------------------------------------------------------------------------\u001b[0m",
      "\u001b[1;31mValueError\u001b[0m                                Traceback (most recent call last)",
      "Cell \u001b[1;32mIn[18], line 9\u001b[0m\n\u001b[0;32m      7\u001b[0m \u001b[38;5;28;01mfor\u001b[39;00m ax, weights \u001b[38;5;129;01min\u001b[39;00m \u001b[38;5;28mzip\u001b[39m(axs, (\u001b[38;5;124m\"\u001b[39m\u001b[38;5;124muniform\u001b[39m\u001b[38;5;124m\"\u001b[39m, \u001b[38;5;124m\"\u001b[39m\u001b[38;5;124mdistance\u001b[39m\u001b[38;5;124m\"\u001b[39m)):\n\u001b[0;32m      8\u001b[0m     clf\u001b[38;5;241m.\u001b[39mset_params(knn__weights\u001b[38;5;241m=\u001b[39mweights)\u001b[38;5;241m.\u001b[39mfit(X_train, y_train)\n\u001b[1;32m----> 9\u001b[0m     disp \u001b[38;5;241m=\u001b[39m DecisionBoundaryDisplay\u001b[38;5;241m.\u001b[39mfrom_estimator(\n\u001b[0;32m     10\u001b[0m         clf,\n\u001b[0;32m     11\u001b[0m         X_test,\n\u001b[0;32m     12\u001b[0m         response_method\u001b[38;5;241m=\u001b[39m\u001b[38;5;124m\"\u001b[39m\u001b[38;5;124mpredict\u001b[39m\u001b[38;5;124m\"\u001b[39m,\n\u001b[0;32m     13\u001b[0m         plot_method\u001b[38;5;241m=\u001b[39m\u001b[38;5;124m\"\u001b[39m\u001b[38;5;124mpcolormesh\u001b[39m\u001b[38;5;124m\"\u001b[39m,\n\u001b[0;32m     14\u001b[0m         xlabel\u001b[38;5;241m=\u001b[39mdataset\u001b[38;5;241m.\u001b[39mcolumns[\u001b[38;5;241m0\u001b[39m],\n\u001b[0;32m     15\u001b[0m         ylabel\u001b[38;5;241m=\u001b[39mdataset\u001b[38;5;241m.\u001b[39mcolumns[\u001b[38;5;241m1\u001b[39m],\n\u001b[0;32m     16\u001b[0m         shading\u001b[38;5;241m=\u001b[39m\u001b[38;5;124m\"\u001b[39m\u001b[38;5;124mauto\u001b[39m\u001b[38;5;124m\"\u001b[39m,\n\u001b[0;32m     17\u001b[0m         alpha\u001b[38;5;241m=\u001b[39m\u001b[38;5;241m0.5\u001b[39m,\n\u001b[0;32m     18\u001b[0m         ax\u001b[38;5;241m=\u001b[39max,\n\u001b[0;32m     19\u001b[0m     )\n\u001b[0;32m     20\u001b[0m     scatter \u001b[38;5;241m=\u001b[39m disp\u001b[38;5;241m.\u001b[39max_\u001b[38;5;241m.\u001b[39mscatter(X\u001b[38;5;241m.\u001b[39miloc[:, \u001b[38;5;241m0\u001b[39m], X\u001b[38;5;241m.\u001b[39miloc[:, \u001b[38;5;241m1\u001b[39m], c\u001b[38;5;241m=\u001b[39my, edgecolors\u001b[38;5;241m=\u001b[39m\u001b[38;5;124m\"\u001b[39m\u001b[38;5;124mk\u001b[39m\u001b[38;5;124m\"\u001b[39m)\n\u001b[0;32m     21\u001b[0m     disp\u001b[38;5;241m.\u001b[39max_\u001b[38;5;241m.\u001b[39mlegend(\n\u001b[0;32m     22\u001b[0m         scatter\u001b[38;5;241m.\u001b[39mlegend_elements()[\u001b[38;5;241m0\u001b[39m],\n\u001b[0;32m     23\u001b[0m         dataset\u001b[38;5;241m.\u001b[39miloc[:, \u001b[38;5;241m-\u001b[39m\u001b[38;5;241m1\u001b[39m]\u001b[38;5;241m.\u001b[39munique(),\n\u001b[0;32m     24\u001b[0m         loc\u001b[38;5;241m=\u001b[39m\u001b[38;5;124m\"\u001b[39m\u001b[38;5;124mlower left\u001b[39m\u001b[38;5;124m\"\u001b[39m,\n\u001b[0;32m     25\u001b[0m         title\u001b[38;5;241m=\u001b[39m\u001b[38;5;124m\"\u001b[39m\u001b[38;5;124mClasses\u001b[39m\u001b[38;5;124m\"\u001b[39m,\n\u001b[0;32m     26\u001b[0m     )\n",
      "File \u001b[1;32m~\\AppData\\Roaming\\Python\\Python311\\site-packages\\sklearn\\inspection\\_plot\\decision_boundary.py:334\u001b[0m, in \u001b[0;36mDecisionBoundaryDisplay.from_estimator\u001b[1;34m(cls, estimator, X, grid_resolution, eps, plot_method, response_method, class_of_interest, xlabel, ylabel, ax, **kwargs)\u001b[0m\n\u001b[0;32m    332\u001b[0m num_features \u001b[38;5;241m=\u001b[39m _num_features(X)\n\u001b[0;32m    333\u001b[0m \u001b[38;5;28;01mif\u001b[39;00m num_features \u001b[38;5;241m!=\u001b[39m \u001b[38;5;241m2\u001b[39m:\n\u001b[1;32m--> 334\u001b[0m     \u001b[38;5;28;01mraise\u001b[39;00m \u001b[38;5;167;01mValueError\u001b[39;00m(\n\u001b[0;32m    335\u001b[0m         \u001b[38;5;124mf\u001b[39m\u001b[38;5;124m\"\u001b[39m\u001b[38;5;124mn_features must be equal to 2. Got \u001b[39m\u001b[38;5;132;01m{\u001b[39;00mnum_features\u001b[38;5;132;01m}\u001b[39;00m\u001b[38;5;124m instead.\u001b[39m\u001b[38;5;124m\"\u001b[39m\n\u001b[0;32m    336\u001b[0m     )\n\u001b[0;32m    338\u001b[0m x0, x1 \u001b[38;5;241m=\u001b[39m _safe_indexing(X, \u001b[38;5;241m0\u001b[39m, axis\u001b[38;5;241m=\u001b[39m\u001b[38;5;241m1\u001b[39m), _safe_indexing(X, \u001b[38;5;241m1\u001b[39m, axis\u001b[38;5;241m=\u001b[39m\u001b[38;5;241m1\u001b[39m)\n\u001b[0;32m    340\u001b[0m x0_min, x0_max \u001b[38;5;241m=\u001b[39m x0\u001b[38;5;241m.\u001b[39mmin() \u001b[38;5;241m-\u001b[39m eps, x0\u001b[38;5;241m.\u001b[39mmax() \u001b[38;5;241m+\u001b[39m eps\n",
      "\u001b[1;31mValueError\u001b[0m: n_features must be equal to 2. Got 16 instead."
     ]
    },
    {
     "data": {
      "image/png": "[encoded data removed]",
      "text/plain": [
       "<Figure size 1200x500 with 16 Axes>"
      ]
     },
     "metadata": {},
     "output_type": "display_data"
    }
   ],
   "source": [
    "import matplotlib.pyplot as plt\n",
    "\n",
    "from sklearn.inspection import DecisionBoundaryDisplay\n",
    "\n",
    "_, axs = plt.subplots(ncols=16, figsize=(12, 5))\n",
    "\n",
    "for ax, weights in zip(axs, (\"uniform\", \"distance\")):\n",
    "    clf.set_params(knn__weights=weights).fit(X_train, y_train)\n",
    "    disp = DecisionBoundaryDisplay.from_estimator(\n",
    "        clf,\n",
    "        X_test,\n",
    "        response_method=\"predict\",\n",
    "        plot_method=\"pcolormesh\",\n",
    "        xlabel=dataset.columns[0],\n",
    "        ylabel=dataset.columns[1],\n",
    "        shading=\"auto\",\n",
    "        alpha=0.5,\n",
    "        ax=ax,\n",
    "    )\n",
    "    scatter = disp.ax_.scatter(X.iloc[:, 0], X.iloc[:, 1], c=y, edgecolors=\"k\")\n",
    "    disp.ax_.legend(\n",
    "        scatter.legend_elements()[0],\n",
    "        dataset.iloc[:, -1].unique(),\n",
    "        loc=\"lower left\",\n",
    "        title=\"Classes\",\n",
    "    )\n",
    "    _ = disp.ax_.set_title(\n",
    "        f\"3-Class classification\\n(k={clf[-1].n_neighbors}, weights={weights!r})\"\n",
    "    )\n",
    "\n",
    "plt.show()"
   ]
  },
  {
   "cell_type": "code",
   "execution_count": 20,
   "metadata": {},
   "outputs": [
    {
     "name": "stdout",
     "output_type": "stream",
     "text": [
      "Accuracy: 0.9833333333333333\n"
     ]
    }
   ],
   "source": [
    "from sklearn.model_selection import train_test_split\n",
    "from sklearn.neighbors import KNeighborsClassifier\n",
    "from sklearn.datasets import make_classification\n",
    "\n",
    "# Generate sample data (replace this with your actual dataset)\n",
    "# X, y = make_classification(n_samples=1000, n_features=16, n_classes=3, n_clusters_per_class=1)\n",
    "X = dataset.iloc[:, :-1].values\n",
    "y = dataset.iloc[:, -1].values\n",
    "\n",
    "# Split data into training and testing sets\n",
    "X_train, X_test, y_train, y_test = train_test_split(X, y, test_size=0.2, random_state=42)\n",
    "\n",
    "# Create KNeighborsClassifier model\n",
    "knn_model = KNeighborsClassifier(n_neighbors=5)  # You can adjust the number of neighbors as needed\n",
    "\n",
    "# Train the model\n",
    "knn_model.fit(X_train, y_train)\n",
    "\n",
    "# Evaluate the model\n",
    "accuracy = knn_model.score(X_test, y_test)\n",
    "print(\"Accuracy:\", accuracy)\n"
   ]
  },
  {
   "cell_type": "code",
   "execution_count": 28,
   "metadata": {},
   "outputs": [
    {
     "name": "stdout",
     "output_type": "stream",
     "text": [
      "[0.02614065 0.04852969 0.08149    0.1155533  0.10190149 0.1160985\n",
      " 0.0941752  0.09838805 0.11096662 0.08678643 0.09318216 0.10614858\n",
      " 0.08470459 0.0889438  0.11663967 0.13486271]\n",
      "phone\n",
      "['phone']\n"
     ]
    }
   ],
   "source": [
    "d = 250\n",
    "print(X[d])\n",
    "print(y[d])\n",
    "print(knn_model.predict([X[d]]))"
   ]
  },
  {
   "cell_type": "code",
   "execution_count": 26,
   "metadata": {},
   "outputs": [
    {
     "data": {
      "text/plain": [
       "['classifier.joblib']"
      ]
     },
     "execution_count": 26,
     "metadata": {},
     "output_type": "execute_result"
    }
   ],
   "source": [
    "from joblib import dump\n",
    "dump(knn_model,'classifier.joblib')"
   ]
  },
  {
   "cell_type": "code",
   "execution_count": 27,
   "metadata": {},
   "outputs": [
    {
     "data": {
      "text/plain": [
       "array([0.02614065, 0.04852969, 0.08149   , 0.1155533 , 0.10190149,\n",
       "       0.1160985 , 0.0941752 , 0.09838805, 0.11096662, 0.08678643,\n",
       "       0.09318216, 0.10614858, 0.08470459, 0.0889438 , 0.11663967,\n",
       "       0.13486271])"
      ]
     },
     "execution_count": 27,
     "metadata": {},
     "output_type": "execute_result"
    }
   ],
   "source": [
    "X[d]"
   ]
  },
  {
   "cell_type": "code",
   "execution_count": null,
   "metadata": {},
   "outputs": [],
   "source": []
  }
 ],
 "metadata": {
  "kernelspec": {
   "display_name": "cpe",
   "language": "python",
   "name": "python3"
  },
  "language_info": {
   "codemirror_mode": {
    "name": "ipython",
    "version": 3
   },
   "file_extension": ".py",
   "mimetype": "text/x-python",
   "name": "python",
   "nbconvert_exporter": "python",
   "pygments_lexer": "ipython3",
   "version": "3.11.7"
  }
 },
 "nbformat": 4,
 "nbformat_minor": 2
}
